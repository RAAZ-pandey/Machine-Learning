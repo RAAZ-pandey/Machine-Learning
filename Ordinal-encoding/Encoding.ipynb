{
 "cells": [
  {
   "cell_type": "code",
   "execution_count": null,
   "metadata": {},
   "outputs": [],
   "source": [
    "#  Imports and Data Loading (unchanged)\n",
    "import pandas as pd\n",
    "from sklearn.preprocessing import OrdinalEncoder, LabelEncoder"
   ]
  },
  {
   "cell_type": "code",
   "execution_count": 23,
   "metadata": {},
   "outputs": [],
   "source": [
    "df = pd.read_csv('customer.csv')\n",
    "df = df.iloc[:, 2:]  # Keep only: review, education, purchased"
   ]
  },
  {
   "cell_type": "code",
   "execution_count": null,
   "metadata": {},
   "outputs": [],
   "source": [
    "#  Train-Test Split (ADDED - critical for real modeling)\n",
    "from sklearn.model_selection import train_test_split\n",
    "X = df.drop('purchased', axis=1)\n",
    "y = df['purchased']\n",
    "X_train, X_test, y_train, y_test = train_test_split(X, y, test_size=0.2, random_state=42)"
   ]
  },
  {
   "cell_type": "code",
   "execution_count": null,
   "metadata": {},
   "outputs": [],
   "source": [
    "\n",
    "#  Encode Features (your exact preferred order)\n",
    "oe = OrdinalEncoder(categories=[['Poor','Average','Good'], ['School','UG','PG']])\n",
    "X_train_encoded = oe.fit_transform(X_train)  # Fit ONLY on train\n",
    "X_test_encoded = oe.transform(X_test)        # Transform test\n"
   ]
  },
  {
   "cell_type": "code",
   "execution_count": 26,
   "metadata": {},
   "outputs": [],
   "source": [
    "#  Encode Target (unchanged)\n",
    "le = LabelEncoder()\n",
    "y_train_encoded = le.fit_transform(y_train)\n",
    "y_test_encoded = le.transform(y_test)"
   ]
  },
  {
   "cell_type": "code",
   "execution_count": 27,
   "metadata": {},
   "outputs": [
    {
     "name": "stdout",
     "output_type": "stream",
     "text": [
      "Encoded Features (First 5):\n",
      " [[0. 0.]\n",
      " [1. 1.]\n",
      " [1. 2.]\n",
      " [1. 1.]\n",
      " [2. 2.]]\n",
      "Encoded Target (First 5): [0 0 1 0 0]\n",
      "\n",
      "Category Orders:\n",
      "Review: ['Poor' 'Average' 'Good']\n",
      "Education: ['School' 'UG' 'PG']\n",
      "Purchased: ['No' 'Yes']\n"
     ]
    }
   ],
   "source": [
    "#  Verify (compact output)\n",
    "print(\"Encoded Features (First 5):\\n\", X_train_encoded[:5])\n",
    "print(\"Encoded Target (First 5):\", y_train_encoded[:5])\n",
    "print(\"\\nCategory Orders:\")\n",
    "print(\"Review:\", oe.categories_[0])\n",
    "print(\"Education:\", oe.categories_[1])\n",
    "print(\"Purchased:\", le.classes_)"
   ]
  },
  {
   "cell_type": "code",
   "execution_count": null,
   "metadata": {},
   "outputs": [],
   "source": []
  }
 ],
 "metadata": {
  "language_info": {
   "name": "python"
  }
 },
 "nbformat": 4,
 "nbformat_minor": 5
}
