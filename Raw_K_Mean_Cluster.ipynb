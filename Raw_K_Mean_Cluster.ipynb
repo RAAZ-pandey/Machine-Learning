{
  "nbformat": 4,
  "nbformat_minor": 0,
  "metadata": {
    "colab": {
      "provenance": []
    },
    "kernelspec": {
      "name": "python3",
      "display_name": "Python 3"
    },
    "language_info": {
      "name": "python"
    }
  },
  "cells": [
    {
      "cell_type": "markdown",
      "source": [
        "Let's Make own functions for K Mean"
      ],
      "metadata": {
        "id": "gz8tT8s89oxq"
      }
    },
    {
      "cell_type": "code",
      "execution_count": null,
      "metadata": {
        "id": "UT-2sdJdGjx2"
      },
      "outputs": [],
      "source": [
        "#Import the necessary Libraries\n",
        "import numpy as np\n",
        "import matplotlib.pyplot as plt\n",
        "from sklearn.datasets import make_blobs"
      ]
    },
    {
      "cell_type": "code",
      "source": [
        "#Create the custom dataset with make_blobs and plot it\n",
        "\n",
        "X,y = make_blobs(n_samples = 500,n_features = 2,centers = 3,random_state = 42)\n",
        "#make_blobs(n_samples=100, n_features=2, *, centers=None, cluster_std=1.0, center_box=(-10.0, 10.0), shuffle=True,\n",
        "#random_state=None, return_centers=False)\n",
        "\n",
        "\n",
        "fig = plt.figure(0)\n",
        "plt.grid(True)\n",
        "plt.scatter(X[:,0],X[:,1])\n",
        "plt.show()"
      ],
      "metadata": {
        "id": "dIvpShtB6ArO"
      },
      "execution_count": null,
      "outputs": []
    },
    {
      "cell_type": "code",
      "source": [
        "#Initialize the random centroids\n",
        "k = 3\n",
        "\n",
        "clusters = {}\n",
        "np.random.seed(42)\n",
        "\n",
        "for idx in range(k):\n",
        "    center = 2*(2*np.random.random((X.shape[1],))-1)\n",
        "    points = []\n",
        "    cluster = {\n",
        "        'center' : center,\n",
        "        'points' : []\n",
        "    }\n",
        "\n",
        "    clusters[idx] = cluster\n",
        "\n",
        "print(clusters)"
      ],
      "metadata": {
        "id": "p0Ro4zLr6HWp"
      },
      "execution_count": null,
      "outputs": []
    },
    {
      "cell_type": "code",
      "source": [
        "#Plot the random initialize center with data points\n",
        "\n",
        "plt.scatter(X[:,0],X[:,1])\n",
        "plt.grid(True)\n",
        "for i in clusters:\n",
        "    center = clusters[i]['center']\n",
        "    plt.scatter(center[0],center[1],marker = '*',c = 'red')\n",
        "plt.show()"
      ],
      "metadata": {
        "id": "ZoVLVCaT6L9c"
      },
      "execution_count": null,
      "outputs": []
    },
    {
      "cell_type": "code",
      "source": [
        "#Define Euclidean distance\n",
        "\n",
        "def distance(p1,p2):\n",
        "    return np.sqrt(np.sum((p1-p2)**2))"
      ],
      "metadata": {
        "id": "OQ6zf7SW6QUR"
      },
      "execution_count": null,
      "outputs": []
    },
    {
      "cell_type": "code",
      "source": [
        "#Create the function to Assign and Update the cluster center\n",
        "\n",
        "#Implementing Assing Cluster (E-step): Assigns data points to the nearest cluster centers.\n",
        "def assign_clusters(X, clusters):\n",
        "    for idx in range(X.shape[0]):\n",
        "        dist = []\n",
        "\n",
        "        curr_x = X[idx]\n",
        "\n",
        "        for i in range(k):\n",
        "            dis = distance(curr_x,clusters[i]['center'])\n",
        "            dist.append(dis)\n",
        "        curr_cluster = np.argmin(dist)\n",
        "        #argmin :  index of the minimum value in an array\n",
        "        clusters[curr_cluster]['points'].append(curr_x)\n",
        "    return clusters\n",
        "\n",
        "#Implementing Update Cluster (M-step): Recalculates the cluster centers based on the assigned points.\n",
        "\n",
        "def update_clusters(X, clusters):\n",
        "    for i in range(k):\n",
        "        points = np.array(clusters[i]['points'])\n",
        "        if points.shape[0] > 0:\n",
        "            new_center = points.mean(axis =0)\n",
        "            clusters[i]['center'] = new_center\n",
        "\n",
        "            clusters[i]['points'] = []\n",
        "    return clusters"
      ],
      "metadata": {
        "id": "QIMm1E0_6TSj"
      },
      "execution_count": null,
      "outputs": []
    },
    {
      "cell_type": "code",
      "source": [
        "#Create the function to Predict the cluster for the datapoints\n",
        "\n",
        "def pred_cluster(X, clusters):\n",
        "    pred = []\n",
        "    for i in range(X.shape[0]):\n",
        "        dist = []\n",
        "        for j in range(k):\n",
        "            dist.append(distance(X[i],clusters[j]['center']))\n",
        "        pred.append(np.argmin(dist))\n",
        "    return pred"
      ],
      "metadata": {
        "id": "VCoz8NXv6XpG"
      },
      "execution_count": null,
      "outputs": []
    },
    {
      "cell_type": "code",
      "source": [
        "#Assign, Update, and predict the cluster center\n",
        "clusters = assign_clusters(X,clusters)\n",
        "clusters = update_clusters(X,clusters)\n",
        "pred = pred_cluster(X,clusters)"
      ],
      "metadata": {
        "id": "ZxZIhtG86ce_"
      },
      "execution_count": null,
      "outputs": []
    },
    {
      "cell_type": "code",
      "source": [
        "#Plot the data points with their predicted cluster center\n",
        "plt.scatter(X[:,0],X[:,1],c = pred)\n",
        "for i in clusters:\n",
        "    center = clusters[i]['center']\n",
        "    plt.scatter(center[0],center[1],marker = '^',c = 'red')\n",
        "plt.show()"
      ],
      "metadata": {
        "id": "HPbvxgb_6dUa"
      },
      "execution_count": null,
      "outputs": []
    },
    {
      "cell_type": "code",
      "source": [],
      "metadata": {
        "id": "v2R4FSvo9XqV"
      },
      "execution_count": null,
      "outputs": []
    }
  ]
}